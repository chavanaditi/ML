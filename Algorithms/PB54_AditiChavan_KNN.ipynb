{
 "cells": [
  {
   "cell_type": "code",
   "execution_count": 56,
   "metadata": {},
   "outputs": [],
   "source": [
    "# Name: Aditi M. Chavan\n",
    "# Panel 2\n",
    "# PB 54\n",
    "# Topic: KNN Classifier\n",
    "# Date: 13/08/20"
   ]
  },
  {
   "cell_type": "code",
   "execution_count": 44,
   "metadata": {},
   "outputs": [],
   "source": [
    "import numpy as np\n",
    "import pandas as pd\n",
    "import sklearn\n",
    "from sklearn.neighbors import KNeighborsClassifier"
   ]
  },
  {
   "cell_type": "code",
   "execution_count": 45,
   "metadata": {},
   "outputs": [],
   "source": [
    "dataset = pd.read_csv(\"C:\\\\Users\\\\Aditi\\\\Desktop\\\\ML\\\\knn.csv\")"
   ]
  },
  {
   "cell_type": "code",
   "execution_count": 46,
   "metadata": {},
   "outputs": [
    {
     "name": "stdout",
     "output_type": "stream",
     "text": [
      "[[2 4]\n",
      " [4 6]\n",
      " [4 4]\n",
      " [4 2]\n",
      " [6 4]\n",
      " [6 2]]\n"
     ]
    }
   ],
   "source": [
    "x = dataset.iloc[:,:-1].values\n",
    "print(x)"
   ]
  },
  {
   "cell_type": "code",
   "execution_count": 47,
   "metadata": {},
   "outputs": [
    {
     "name": "stdout",
     "output_type": "stream",
     "text": [
      "['N' 'N' 'P' 'N' 'N' 'P']\n"
     ]
    }
   ],
   "source": [
    "y = dataset.iloc[:,2].values\n",
    "print(y)"
   ]
  },
  {
   "cell_type": "code",
   "execution_count": 48,
   "metadata": {},
   "outputs": [
    {
     "name": "stdout",
     "output_type": "stream",
     "text": [
      "['N' 'N' 'N' 'P' 'P' 'N']\n"
     ]
    },
    {
     "data": {
      "text/plain": [
       "array([[2, 2],\n",
       "       [2, 0]], dtype=int64)"
      ]
     },
     "execution_count": 48,
     "metadata": {},
     "output_type": "execute_result"
    }
   ],
   "source": [
    "classifier = KNeighborsClassifier(n_neighbors=3) #k=3\n",
    "classifier.fit(x,y) #training\n",
    "\n",
    "x_test = np.array([4,2])\n",
    "\n",
    "y_predict = classifier.predict(x) #testing\n",
    "print(y_predict)\n",
    "\n",
    "from sklearn.metrics import confusion_matrix\n",
    "confusion_matrix(y,y_predict)"
   ]
  },
  {
   "cell_type": "code",
   "execution_count": 49,
   "metadata": {},
   "outputs": [],
   "source": [
    "weather=['Sunny','Sunny','Overcast','Rainy','Rainy','Rainy','Overcast','Sunny','Sunny',\n",
    "'Rainy','Sunny','Overcast','Overcast','Rainy']\n",
    "# Second Feature\n",
    "temp=['Hot','Hot','Hot','Mild','Cool','Cool','Cool','Mild','Cool','Mild','Mild','Mild','Hot','Mild']\n",
    "\n",
    "# Label or target varible\n",
    "play=['No','No','Yes','Yes','Yes','No','Yes','No','Yes','Yes','Yes','Yes','Yes','No']"
   ]
  },
  {
   "cell_type": "code",
   "execution_count": 50,
   "metadata": {},
   "outputs": [
    {
     "name": "stdout",
     "output_type": "stream",
     "text": [
      "[2 2 0 1 1 1 0 2 2 1 2 0 0 1]\n"
     ]
    }
   ],
   "source": [
    "from sklearn import preprocessing\n",
    "le = preprocessing.LabelEncoder()\n",
    "weather_encoded = le.fit_transform(weather) #convert weather string labels into nos\n",
    "print(weather_encoded)\n",
    "\n",
    "temp_encoded = le.fit_transform(temp) #convert temp string labels into nos\n",
    "\n",
    "label = le.fit_transform(play) #convert play string labels into nos"
   ]
  },
  {
   "cell_type": "code",
   "execution_count": 51,
   "metadata": {},
   "outputs": [],
   "source": [
    "features = list(zip(weather_encoded, temp_encoded)) #combine weather & temp into single listof tuples"
   ]
  },
  {
   "cell_type": "code",
   "execution_count": 52,
   "metadata": {},
   "outputs": [
    {
     "name": "stdout",
     "output_type": "stream",
     "text": [
      "[1]\n"
     ]
    }
   ],
   "source": [
    "from sklearn.neighbors import KNeighborsClassifier\n",
    "\n",
    "model = KNeighborsClassifier(n_neighbors=3)\n",
    "model.fit(features,label) #train model using training dataset\n",
    "predicted = model.predict([[0,2]]) #0:overcast 2:mild\n",
    "print(predicted)"
   ]
  },
  {
   "cell_type": "code",
   "execution_count": 53,
   "metadata": {},
   "outputs": [
    {
     "name": "stdout",
     "output_type": "stream",
     "text": [
      "[[ 5.   45.  ]\n",
      " [ 5.11 26.  ]\n",
      " [ 5.6  30.  ]\n",
      " [ 5.9  34.  ]\n",
      " [ 4.8  40.  ]\n",
      " [ 5.8  36.  ]\n",
      " [ 5.3  19.  ]\n",
      " [ 5.8  28.  ]\n",
      " [ 5.5  23.  ]\n",
      " [ 5.6  32.  ]]\n",
      "[77 47 55 59 72 60 40 60 45 58]\n"
     ]
    }
   ],
   "source": [
    "import numpy as np\n",
    "import pandas as pd\n",
    "import sklearn\n",
    "from sklearn.neighbors import KNeighborsRegressor\n",
    "\n",
    "dataset = pd.read_csv(\"C:\\\\Users\\\\Aditi\\\\Desktop\\\\ML\\\\knn1.csv\")\n",
    "\n",
    "x = dataset.iloc[:,:-1].values\n",
    "print(x)\n",
    "y = dataset.iloc[:,2].values\n",
    "print(y)"
   ]
  },
  {
   "cell_type": "code",
   "execution_count": 54,
   "metadata": {},
   "outputs": [
    {
     "name": "stdout",
     "output_type": "stream",
     "text": [
      "[53.]\n"
     ]
    }
   ],
   "source": [
    "classifier = KNeighborsRegressor(n_neighbors=5) #k=5\n",
    "classifier.fit(x,y) #training\n",
    "x_test = np.array([5.50,26])\n",
    "y_predict = classifier.predict([x_test]) #testing\n",
    "print(y_predict)"
   ]
  },
  {
   "cell_type": "code",
   "execution_count": 55,
   "metadata": {},
   "outputs": [
    {
     "data": {
      "text/plain": [
       "0.679081158685922"
      ]
     },
     "execution_count": 55,
     "metadata": {},
     "output_type": "execute_result"
    }
   ],
   "source": [
    "from sklearn.metrics import r2_score #r2_score used for KNeighborsRegressor\n",
    "\n",
    "y_predict = classifier.predict(x)\n",
    "r2_score(y, y_predict) #displays accuracy\n",
    "\n"
   ]
  },
  {
   "cell_type": "code",
   "execution_count": null,
   "metadata": {},
   "outputs": [],
   "source": []
  }
 ],
 "metadata": {
  "kernelspec": {
   "display_name": "Python 3",
   "language": "python",
   "name": "python3"
  },
  "language_info": {
   "codemirror_mode": {
    "name": "ipython",
    "version": 3
   },
   "file_extension": ".py",
   "mimetype": "text/x-python",
   "name": "python",
   "nbconvert_exporter": "python",
   "pygments_lexer": "ipython3",
   "version": "3.7.4"
  }
 },
 "nbformat": 4,
 "nbformat_minor": 2
}
