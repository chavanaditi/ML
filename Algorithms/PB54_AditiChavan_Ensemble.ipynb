{
 "metadata": {
  "language_info": {
   "codemirror_mode": {
    "name": "ipython",
    "version": 3
   },
   "file_extension": ".py",
   "mimetype": "text/x-python",
   "name": "python",
   "nbconvert_exporter": "python",
   "pygments_lexer": "ipython3",
   "version": "3.7.4-final"
  },
  "orig_nbformat": 2,
  "kernelspec": {
   "name": "python_defaultSpec_1599797553579",
   "display_name": "Python 3.7.4 64-bit (conda)"
  }
 },
 "nbformat": 4,
 "nbformat_minor": 2,
 "cells": [
  {
   "cell_type": "code",
   "execution_count": 1,
   "metadata": {},
   "outputs": [],
   "source": [
    "# Name: Aditi M. Chavan\n",
    "# Panel 2\n",
    "# PB 54\n",
    "# Topic: Ensemble"
   ]
  },
  {
   "cell_type": "code",
   "execution_count": 4,
   "metadata": {},
   "outputs": [],
   "source": [
    "import pandas as pd\n",
    "from sklearn.tree import DecisionTreeClassifier\n",
    "from sklearn.neighbors import KNeighborsClassifier\n",
    "from sklearn.metrics import accuracy_score\n",
    "from sklearn.svm import SVC\n",
    "from sklearn.ensemble import VotingClassifier # bagging\n",
    "\n",
    "col_names = ['pregnant', 'glucose', 'bp', 'skin', 'insulin', 'bmi', 'pedigree', 'age', 'label' ] \n",
    "# load dataset\n",
    "pima = pd.read_csv(\"C:\\\\Users\\\\Aditi\\\\Desktop\\\\ML\\\\pima-indians-diabetes.csv\", header=None, names=col_names)\n",
    "feature_cols = ['pregnant', 'insulin', 'bmi', 'age', 'glucose', 'bp', 'pedigree'] # select required features\n",
    "#pima.columns"
   ]
  },
  {
   "cell_type": "code",
   "execution_count": 7,
   "metadata": {},
   "outputs": [
    {
     "output_type": "execute_result",
     "data": {
      "text/plain": "1.0"
     },
     "metadata": {},
     "execution_count": 7
    }
   ],
   "source": [
    "X = pima[feature_cols]\n",
    "Y = pima.label\n",
    "\n",
    "estimators = []\n",
    "model1 = KNeighborsClassifier(n_neighbors=3)\n",
    "estimators.append(('KNN', model1))\n",
    "\n",
    "model2 = DecisionTreeClassifier()\n",
    "estimators.append(('cart', model2))\n",
    "\n",
    "model3 = SVC()\n",
    "estimators.append(('svc', model3))\n",
    "\n",
    "ensemble = VotingClassifier(estimators)\n",
    "eclf1 = ensemble.fit(X, Y)\n",
    "y1 = eclf1.predict(X)\n",
    "accuracy_score(Y, y1)"
   ]
  },
  {
   "cell_type": "code",
   "execution_count": 20,
   "metadata": {},
   "outputs": [],
   "source": [
    "#"
   ]
  },
  {
   "cell_type": "code",
   "execution_count": 10,
   "metadata": {},
   "outputs": [],
   "source": [
    "# load libraries\n",
    "from sklearn.ensemble import AdaBoostClassifier\n",
    "from sklearn import datasets\n",
    "# import train_test_split function\n",
    "from sklearn.model_selection import train_test_split\n",
    "# import scikit-learn metrics module for accuracy calc\n",
    "from sklearn import metrics"
   ]
  },
  {
   "cell_type": "code",
   "execution_count": 11,
   "metadata": {},
   "outputs": [],
   "source": [
    "# load iris\n",
    "iris = datasets.load_iris()\n",
    "X = iris.data # feature\n",
    "y = iris.target # class labels"
   ]
  },
  {
   "cell_type": "code",
   "execution_count": 13,
   "metadata": {},
   "outputs": [],
   "source": [
    "# create adaboost classifier object\n",
    "abc = AdaBoostClassifier(n_estimators=50)\n",
    "# train adaboost classifier\n",
    "model = abc.fit(X,y)\n",
    "\n",
    "# predict the respose for test dataset\n",
    "y_pred = model.predict(X)"
   ]
  },
  {
   "cell_type": "code",
   "execution_count": 14,
   "metadata": {
    "tags": []
   },
   "outputs": [
    {
     "output_type": "stream",
     "name": "stdout",
     "text": "Accuracy: 0.96\n"
    }
   ],
   "source": [
    "# model accuracy to show how often the classifier is correct\n",
    "print(\"Accuracy:\", metrics.accuracy_score(y, y_pred))"
   ]
  },
  {
   "cell_type": "code",
   "execution_count": 21,
   "metadata": {},
   "outputs": [],
   "source": [
    "#"
   ]
  },
  {
   "cell_type": "code",
   "execution_count": 19,
   "metadata": {
    "tags": []
   },
   "outputs": [
    {
     "output_type": "stream",
     "name": "stdout",
     "text": "Accuracy: 0.9866666666666667\n"
    }
   ],
   "source": [
    "# load libraries\n",
    "from sklearn.ensemble import AdaBoostClassifier\n",
    "\n",
    "# import Support Vector Classifier\n",
    "from sklearn.svm import SVC\n",
    "# import scikit-learn metrics module for accuracy calc\n",
    "from sklearn import metrics\n",
    "svc = SVC(probability=True, kernel=\"linear\")\n",
    "\n",
    "# create adaboost classifier object\n",
    "abc = AdaBoostClassifier(n_estimators=50, base_estimator=svc)\n",
    "\n",
    "# train adaboost classifier\n",
    "model = abc.fit(X, y)\n",
    "\n",
    "# predict the respose for test dataset\n",
    "y_pred = model.predict(X)\n",
    "\n",
    "# model accuracy to show how often the classifier is correct\n",
    "print(\"Accuracy:\", metrics.accuracy_score(y, y_pred))"
   ]
  },
  {
   "cell_type": "code",
   "execution_count": null,
   "metadata": {},
   "outputs": [],
   "source": []
  }
 ]
}